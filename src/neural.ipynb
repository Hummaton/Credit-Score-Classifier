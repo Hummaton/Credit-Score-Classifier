{
 "cells": [
  {
   "cell_type": "code",
   "execution_count": 38,
   "id": "5e2dbbae",
   "metadata": {},
   "outputs": [
    {
     "name": "stdout",
     "output_type": "stream",
     "text": [
      "Number of occurrences:\n",
      "Good: 7073\n",
      "Standard: 7187\n",
      "Poor: 6990\n"
     ]
    },
    {
     "name": "stderr",
     "output_type": "stream",
     "text": [
      "/Users/nhannguyen/anaconda3/lib/python3.11/site-packages/sklearn/preprocessing/_encoders.py:972: FutureWarning: `sparse` was renamed to `sparse_output` in version 1.2 and will be removed in 1.4. `sparse_output` is ignored unless you leave `sparse` to its default value.\n",
      "  warnings.warn(\n"
     ]
    },
    {
     "name": "stdout",
     "output_type": "stream",
     "text": [
      "Accuracy :  0.5938823529411764\n",
      "Mean Square Error :  0.251921568627451\n",
      "Confusion Matrix for each label : \n",
      "[[[2375  461]\n",
      "  [ 495  919]]\n",
      "\n",
      " [[2155  655]\n",
      "  [ 699  741]]\n",
      "\n",
      " [[2400  454]\n",
      "  [ 448  948]]]\n",
      "Classification Report : \n",
      "              precision    recall  f1-score   support\n",
      "\n",
      "           0       0.67      0.65      0.66      1414\n",
      "           1       0.53      0.51      0.52      1440\n",
      "           2       0.68      0.68      0.68      1396\n",
      "\n",
      "   micro avg       0.62      0.61      0.62      4250\n",
      "   macro avg       0.62      0.61      0.62      4250\n",
      "weighted avg       0.62      0.61      0.62      4250\n",
      " samples avg       0.60      0.61      0.61      4250\n",
      "\n"
     ]
    },
    {
     "name": "stderr",
     "output_type": "stream",
     "text": [
      "/Users/nhannguyen/anaconda3/lib/python3.11/site-packages/sklearn/metrics/_classification.py:1469: UndefinedMetricWarning: Precision and F-score are ill-defined and being set to 0.0 in samples with no predicted labels. Use `zero_division` parameter to control this behavior.\n",
      "  _warn_prf(average, modifier, msg_start, len(result))\n"
     ]
    }
   ],
   "source": [
    "import sys\n",
    "import pandas as pd\n",
    "import seaborn as sns\n",
    "import matplotlib.pyplot as plt\n",
    "import numpy as np\n",
    "import sklearn as sk\n",
    "from sklearn.model_selection import train_test_split\n",
    "from sklearn.linear_model import LinearRegression\n",
    "from sklearn.linear_model import LogisticRegression\n",
    "from sklearn.metrics import mean_squared_error\n",
    "from sklearn.preprocessing import PolynomialFeatures\n",
    "from sklearn.preprocessing import MinMaxScaler\n",
    "from sklearn.preprocessing import OneHotEncoder\n",
    "import operator\n",
    "from sklearn.metrics import classification_report\n",
    "from sklearn.metrics import mean_squared_error, r2_score\n",
    "from sklearn.metrics import classification_report, confusion_matrix, multilabel_confusion_matrix\n",
    "from sklearn.metrics import mean_squared_error, accuracy_score, precision_score, recall_score\n",
    "from sklearn.neural_network import MLPClassifier\n",
    "\n",
    "pd.set_option('display.max_columns', None)\n",
    "\n",
    "df = pd.read_csv(\"../dataset/train_processed.csv\")\n",
    "df = df.drop([\"Payment_Behaviour\"], axis=1)\n",
    "\n",
    "good = df[df[\"Credit_Score\"] == \"Good\"]\n",
    "standard = df[df[\"Credit_Score\"] == \"Standard\"]\n",
    "poor = df[df[\"Credit_Score\"] == \"Poor\"]\n",
    "standard = standard.sample(frac=0.3, random_state=20)\n",
    "poor = poor.sample(frac=0.5, random_state=20)\n",
    "\n",
    "df = pd.concat([good, standard, poor])\n",
    "\n",
    "X = df.drop(\"Credit_Score\", axis=1)\n",
    "y = df[\"Credit_Score\"]\n",
    "\n",
    "print(f\"Number of occurrences:\\nGood: {good.shape[0]}\\nStandard: {standard.shape[0]}\\nPoor: {poor.shape[0]}\")\n",
    "scaler = MinMaxScaler(feature_range=(0, 1))\n",
    "X_rescaled = scaler.fit_transform(X)\n",
    "X = pd.DataFrame(data=X_rescaled, columns=X.columns)\n",
    "categories=[[\"Good\", \"Standard\", \"Poor\"]]\n",
    "encoder = OneHotEncoder(categories=categories, sparse=False)\n",
    "y = encoder.fit_transform(y.values.reshape(-1, 1))\n",
    "\n",
    "data_train, data_test, class_train, class_test = train_test_split(X, y, test_size=0.2)\n",
    "mlp = MLPClassifier(solver=\"sgd\", alpha=0.00045, activation=\"relu\", learning_rate=\"adaptive\", learning_rate_init=0.1, batch_size=128, hidden_layer_sizes=(150, 100, 65, 43), max_iter=10000, random_state=21)\n",
    "mlp.fit(data_train, class_train)\n",
    "pred = mlp.predict(data_test)\n",
    "print(\"Accuracy : \", accuracy_score(class_test, pred))\n",
    "print(\"Mean Square Error : \", mean_squared_error(class_test, pred))\n",
    "\n",
    "print(\"Confusion Matrix for each label : \")\n",
    "print(multilabel_confusion_matrix(class_test, pred))\n",
    "\n",
    "print(\"Classification Report : \")\n",
    "print(classification_report(class_test, pred))"
   ]
  },
  {
   "cell_type": "code",
   "execution_count": 33,
   "id": "bafd13f0",
   "metadata": {},
   "outputs": [
    {
     "data": {
      "text/plain": [
       "[<matplotlib.lines.Line2D at 0x150d619d0>]"
      ]
     },
     "execution_count": 33,
     "metadata": {},
     "output_type": "execute_result"
    },
    {
     "data": {
      "image/png": "[encoded data removed]",
      "text/plain": [
       "<Figure size 640x480 with 1 Axes>"
      ]
     },
     "metadata": {},
     "output_type": "display_data"
    }
   ],
   "source": [
    "loss_values = mlp.loss_curve_\n",
    "plt.plot(loss_values)"
   ]
  }
 ],
 "metadata": {
  "kernelspec": {
   "display_name": "Python 3 (ipykernel)",
   "language": "python",
   "name": "python3"
  },
  "language_info": {
   "codemirror_mode": {
    "name": "ipython",
    "version": 3
   },
   "file_extension": ".py",
   "mimetype": "text/x-python",
   "name": "python",
   "nbconvert_exporter": "python",
   "pygments_lexer": "ipython3",
   "version": "3.11.5"
  }
 },
 "nbformat": 4,
 "nbformat_minor": 5
}
